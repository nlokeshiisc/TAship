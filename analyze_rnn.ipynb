{
 "cells": [
  {
   "cell_type": "code",
   "execution_count": 17,
   "metadata": {},
   "outputs": [],
   "source": [
    "import numpy as np\n",
    "from collections import defaultdict\n",
    "import pandas as pd"
   ]
  },
  {
   "cell_type": "code",
   "execution_count": 18,
   "metadata": {},
   "outputs": [],
   "source": [
    "wih = np.asarray(\n",
    "[[ 0.62201935,  0.6220437 ],\n",
    " [-2.244645,   -2.243463  ],\n",
    " [-0.00855236, -0.00943025],\n",
    " [ 1.0386906,   1.0383265 ]])\n",
    "bih = np.asarray([ 0.15068582,  0.60134333, -0.16795984, -1.1181226 ]).reshape(4,1)\n",
    "\n",
    "whh = np.asarray(\n",
    "[[-0.2925547,  -0.47227088,  0.87065256, -1.4844048 ],\n",
    " [ 0.56069386,  0.87084246, -1.5412495,   2.6231997 ],\n",
    " [-0.31631994, -0.27769664,  0.11430798, -0.15658917],\n",
    " [ 0.18499303,  0.25018248, -0.38209134,  0.6430788 ]])\n",
    "bhh = np.asarray([-0.08349156,  0.42185593, -0.81559545, -0.22228335]).reshape(4,1)\n",
    "\n",
    "wfc = np.asarray([[-1.6118469,  -1.4633172,  -0.6376388,  -0.87174004]])\n",
    "bfc = np.asarray([-0.00512562])"
   ]
  },
  {
   "cell_type": "code",
   "execution_count": 22,
   "metadata": {},
   "outputs": [
    {
     "name": "stderr",
     "output_type": "stream",
     "text": [
      "/tmp/ipykernel_1632636/2822559510.py:37: FutureWarning: save is not part of the public API, usage can give unexpected results and will be removed in a future version\n",
      "  writer.save()\n"
     ]
    }
   ],
   "source": [
    "writer = pd.ExcelWriter('adder.xlsx', engine='openpyxl', mode='w')\n",
    "\n",
    "for _ in range(10):\n",
    "    df = defaultdict(list)\n",
    "    np.random.seed(100*_)\n",
    "    x1 = np.random.randint(0, 2, size=(10, 1))\n",
    "    x2 = np.random.randint(0, 2, size=(10, 1))\n",
    "    indices = np.arange(len(x1))\n",
    "\n",
    "    carry = 0\n",
    "    h = np.zeros((4, 1))\n",
    "    for idx in indices[::-1]:\n",
    "        inp_1 = x1[idx]\n",
    "        inp_2 = x2[idx]\n",
    "        x = np.vstack((inp_1, inp_2))\n",
    "        df[\"x1\"].append(inp_1)\n",
    "        df[\"x2\"].append(inp_2)\n",
    "        \n",
    "        ysum = inp_1 + inp_2 + carry\n",
    "        ysum = ysum % 2\n",
    "        \n",
    "        ycarry = inp_1 + inp_2 + carry\n",
    "        ycarry = (ycarry >= 2) * 1\n",
    "        \n",
    "        df[\"ys\"].append(ysum)\n",
    "        df[\"yc\"].append(ycarry)\n",
    "        \n",
    "        ht = np.tanh(np.dot(wih, x) + bih + np.dot(whh, h) + bhh)\n",
    "        df[\"ht\"].append(ht.reshape(-1))\n",
    "        \n",
    "        yhat = np.dot(wfc, ht) + bfc\n",
    "        df[\"yhat\"].append(yhat.reshape(-1))\n",
    "    \n",
    "    df = pd.DataFrame(df)\n",
    "    df.to_excel(writer,sheet_name=f'example-{_}')\n",
    "\n",
    "writer.save()\n",
    "writer.close()"
   ]
  },
  {
   "cell_type": "code",
   "execution_count": null,
   "metadata": {},
   "outputs": [],
   "source": []
  }
 ],
 "metadata": {
  "kernelspec": {
   "display_name": "lokeshenv",
   "language": "python",
   "name": "python3"
  },
  "language_info": {
   "codemirror_mode": {
    "name": "ipython",
    "version": 3
   },
   "file_extension": ".py",
   "mimetype": "text/x-python",
   "name": "python",
   "nbconvert_exporter": "python",
   "pygments_lexer": "ipython3",
   "version": "3.9.18"
  },
  "orig_nbformat": 4
 },
 "nbformat": 4,
 "nbformat_minor": 2
}
